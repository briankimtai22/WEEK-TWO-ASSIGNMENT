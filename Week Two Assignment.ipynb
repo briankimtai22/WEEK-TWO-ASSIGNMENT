{
 "cells": [
  {
   "cell_type": "code",
   "execution_count": 32,
   "id": "e855164e-a8dc-4c7a-a935-b7d2baab5d08",
   "metadata": {},
   "outputs": [
    {
     "name": "stdout",
     "output_type": "stream",
     "text": [
      "[]\n"
     ]
    }
   ],
   "source": [
    "#1: create an empty list called my_list\n",
    "my_list = []\n",
    "print(my_list)"
   ]
  },
  {
   "cell_type": "code",
   "execution_count": 33,
   "id": "f69d9e91-2f01-4165-b3c1-2f69f719b520",
   "metadata": {},
   "outputs": [
    {
     "name": "stdout",
     "output_type": "stream",
     "text": [
      "[10, 20, 30, 40]\n"
     ]
    }
   ],
   "source": [
    "#2: Append the following elements to my_list 10,20,30,40\n",
    "my_list.append(10)\n",
    "my_list.append(20)\n",
    "my_list.append(30)\n",
    "my_list.append(40)\n",
    "print(my_list)"
   ]
  },
  {
   "cell_type": "code",
   "execution_count": 34,
   "id": "5eb1574b-b43c-43d7-a87d-b7cffd50695d",
   "metadata": {},
   "outputs": [
    {
     "name": "stdout",
     "output_type": "stream",
     "text": [
      "[10, 15, 20, 30, 40]\n"
     ]
    }
   ],
   "source": [
    "#3: Insert the value 15 at the second position in the list\n",
    "my_list.insert(1, 15)\n",
    "print(my_list)"
   ]
  },
  {
   "cell_type": "code",
   "execution_count": 35,
   "id": "412b9319-c8ec-4e77-bc09-1d980c120133",
   "metadata": {},
   "outputs": [
    {
     "name": "stdout",
     "output_type": "stream",
     "text": [
      "[10, 15, 20, 30, 40, 50, 60, 70]\n"
     ]
    }
   ],
   "source": [
    "#4: Extend mmmmmy_list with another list: [50,60,70]\n",
    "my_list.extend([50, 60, 70])\n",
    "print(my_list)"
   ]
  },
  {
   "cell_type": "code",
   "execution_count": 39,
   "id": "aabd7b48-5a99-4768-941b-224eeda051ab",
   "metadata": {},
   "outputs": [
    {
     "name": "stdout",
     "output_type": "stream",
     "text": [
      "[10, 15, 20, 30, 40, 50, 60]\n"
     ]
    }
   ],
   "source": [
    "#5: Remove the last element from my_list\n",
    "my_list.pop()\n",
    "print(my_list)"
   ]
  },
  {
   "cell_type": "code",
   "execution_count": 42,
   "id": "57ac956d-b29b-42ec-8623-abf916711631",
   "metadata": {},
   "outputs": [
    {
     "name": "stdout",
     "output_type": "stream",
     "text": [
      "[10, 15, 20, 30, 40, 50, 60]\n"
     ]
    }
   ],
   "source": [
    "#6: Sort my_list in ascending order\n",
    "my_list.sort()\n",
    "print(my_list)"
   ]
  },
  {
   "cell_type": "code",
   "execution_count": 43,
   "id": "5e42a6ea-e599-4332-999d-de734bd3abdb",
   "metadata": {},
   "outputs": [
    {
     "name": "stdout",
     "output_type": "stream",
     "text": [
      "index of 30: 3\n"
     ]
    }
   ],
   "source": [
    "#7: Find and print the index of the value 30 in my_list\n",
    "index_of_30 = my_list.index(30)\n",
    "print(\"index of 30:\", index_of_30)"
   ]
  },
  {
   "cell_type": "code",
   "execution_count": null,
   "id": "081d5110-46f5-4d1f-bac4-e21f27940604",
   "metadata": {},
   "outputs": [],
   "source": []
  }
 ],
 "metadata": {
  "kernelspec": {
   "display_name": "Python 3 (ipykernel)",
   "language": "python",
   "name": "python3"
  },
  "language_info": {
   "codemirror_mode": {
    "name": "ipython",
    "version": 3
   },
   "file_extension": ".py",
   "mimetype": "text/x-python",
   "name": "python",
   "nbconvert_exporter": "python",
   "pygments_lexer": "ipython3",
   "version": "3.12.7"
  }
 },
 "nbformat": 4,
 "nbformat_minor": 5
}
